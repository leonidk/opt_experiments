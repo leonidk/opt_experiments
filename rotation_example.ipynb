{
 "cells": [
  {
   "cell_type": "code",
   "execution_count": null,
   "metadata": {},
   "outputs": [],
   "source": [
    "%matplotlib notebook"
   ]
  },
  {
   "cell_type": "code",
   "execution_count": null,
   "metadata": {},
   "outputs": [],
   "source": [
    "import numpy as np\n",
    "\n",
    "import skimage.io as sio\n",
    "import skimage.transform as sktransform\n",
    "\n",
    "import matplotlib.pyplot as plt\n",
    "import time\n"
   ]
  },
  {
   "cell_type": "code",
   "execution_count": null,
   "metadata": {},
   "outputs": [],
   "source": [
    "# load\n",
    "img = sio.imread('snapshot04.png')\n",
    "# resize\n",
    "img = sktransform.resize_local_mean(img,list((np.array(img.shape[:-1])/4).astype(int)) + [4])\n",
    "# get mask\n",
    "bin_img = (img[:,:,3] > 0)\n",
    "\n",
    "plt.figure()\n",
    "plt.imshow(bin_img)\n",
    "plt.axis('off')"
   ]
  },
  {
   "cell_type": "code",
   "execution_count": null,
   "metadata": {},
   "outputs": [],
   "source": [
    "# compute rotation error\n",
    "x_sample = np.linspace(0,360,300,endpoint=False)\n",
    "y_res = []\n",
    "for ang in x_sample: \n",
    "    rot_img = sktransform.rotate(bin_img,ang)\n",
    "    y_res.append((bin_img != rot_img).sum())"
   ]
  },
  {
   "cell_type": "code",
   "execution_count": null,
   "metadata": {},
   "outputs": [],
   "source": [
    "# plot two instances of the periodic function\n",
    "plt.figure()\n",
    "plt.plot(x_sample,y_res)\n",
    "plt.xlabel('loss')\n",
    "plt.ylabel('angle')"
   ]
  },
  {
   "cell_type": "code",
   "execution_count": null,
   "metadata": {},
   "outputs": [],
   "source": [
    "import scipy.fftpack as scifft\n",
    "# Number of non-zero DCT. Should be roughly 1 + 2*(# of local minimia)\n",
    "N_FFT = 19\n",
    "yf = scifft.dct(y_res)\n",
    "yf[N_FFT:] = 0\n",
    "y_recon = scifft.idct(yf)\n",
    "\n",
    "plt.figure()\n",
    "plt.plot(y_res,label='data')\n",
    "plt.plot(y_recon/(2*len(yf)),label='simplified')\n",
    "plt.legend()"
   ]
  },
  {
   "cell_type": "code",
   "execution_count": null,
   "metadata": {},
   "outputs": [],
   "source": [
    "import jax\n",
    "import jax.numpy as jnp\n",
    "import optax"
   ]
  },
  {
   "cell_type": "code",
   "execution_count": null,
   "metadata": {},
   "outputs": [],
   "source": [
    "y_jax = jnp.array(y_res)\n",
    "yf_jax = jnp.array(yf)\n",
    "\n",
    "def compute_func(x):\n",
    "    s = yf_jax[0]\n",
    "    xc = jnp.mod(x,360)\n",
    "    for i in range(1,N_FFT):\n",
    "        s += 2*yf_jax[i] * jnp.cos(np.pi*i*(2*xc+1)/(2*360))\n",
    "    return s\n",
    "\n",
    "plt.figure()\n",
    "plt.plot(x_sample,[compute_func(_) for _ in x_sample])\n",
    "plt.plot(x_sample,y_recon,ls='--')"
   ]
  },
  {
   "cell_type": "code",
   "execution_count": null,
   "metadata": {},
   "outputs": [],
   "source": [
    "N_EXP = 100\n",
    "init_g = np.random.rand(N_EXP)*360"
   ]
  },
  {
   "cell_type": "code",
   "execution_count": null,
   "metadata": {},
   "outputs": [],
   "source": [
    "import jaxopt\n",
    "first_order2 = []\n",
    "t1 = time.time()\n",
    "for i in range(N_EXP):\n",
    "    loc = jnp.array(init_g[i])\n",
    "\n",
    "    solver = jaxopt.GradientDescent(fun=compute_func, maxiter=250, tol=1e-3)\n",
    "    res = solver.run(loc)\n",
    "    first_order2.append(np.array(compute_func(res.params)))\n",
    "print(time.time() - t1)\n",
    "print((np.array(first_order2) < y_recon.min()*2).sum())"
   ]
  },
  {
   "cell_type": "code",
   "execution_count": null,
   "metadata": {},
   "outputs": [],
   "source": [
    "import jaxopt\n",
    "second_order = []\n",
    "t1 = time.time()\n",
    "for i in range(N_EXP):\n",
    "    loc = jnp.array(init_g[i])\n",
    "\n",
    "    solver = jaxopt.LBFGS(fun=compute_func, maxiter=3, tol=1e-3)\n",
    "    res = solver.run(loc)\n",
    "    second_order.append(np.array(compute_func(res.params)))\n",
    "print(time.time() - t1)\n",
    "print((np.array(second_order) < y_recon.min()*2).sum())"
   ]
  },
  {
   "cell_type": "code",
   "execution_count": null,
   "metadata": {},
   "outputs": [],
   "source": [
    "plt.figure()\n",
    "plt.hist(first_order2,alpha=0.5,label='first')\n",
    "plt.hist(second_order,alpha=0.5,label='second')\n",
    "plt.legend()"
   ]
  },
  {
   "cell_type": "code",
   "execution_count": null,
   "metadata": {},
   "outputs": [],
   "source": []
  }
 ],
 "metadata": {
  "language_info": {
   "name": "python"
  }
 },
 "nbformat": 4,
 "nbformat_minor": 5
}
